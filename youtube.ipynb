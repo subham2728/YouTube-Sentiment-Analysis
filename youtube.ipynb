{
  "nbformat": 4,
  "nbformat_minor": 0,
  "metadata": {
    "colab": {
      "name": "Youtube-Sentiment-Analysis.ipynb",
      "provenance": [],
      "collapsed_sections": [],
      "mount_file_id": "12RWPS5HBLKzHlF1r6niGmkYmFq7BSWFd",
      "authorship_tag": "ABX9TyOlDjcXNetaRnM6qwo5wzW5"
    },
    "kernelspec": {
      "name": "python3",
      "display_name": "Python 3"
    },
    "language_info": {
      "name": "python"
    },
    "accelerator": "TPU"
  },
  "cells": [
    {
      "cell_type": "markdown",
      "source": [
        "# **YouTube Sentiment Analysis**"
      ],
      "metadata": {
        "id": "0GimCwACfXLJ"
      }
    },
    {
      "cell_type": "code",
      "source": [
        "from googleapiclient.discovery import build\n",
        "import json\n",
        "import requests\n",
        "import time\n",
        "import pandas as pd\n",
        "import re\n",
        "import numpy as np"
      ],
      "metadata": {
        "id": "oRh3Z4xSDTRs"
      },
      "execution_count": 1,
      "outputs": []
    },
    {
      "cell_type": "markdown",
      "source": [
        "### Supressing all warnings"
      ],
      "metadata": {
        "id": "IsV2buwAff9I"
      }
    },
    {
      "cell_type": "code",
      "source": [
        "import warnings\n",
        "warnings.filterwarnings('ignore')"
      ],
      "metadata": {
        "id": "8dcOc32Xfj2A"
      },
      "execution_count": 2,
      "outputs": []
    },
    {
      "cell_type": "markdown",
      "source": [
        "## Taking input and Splitting the video Id"
      ],
      "metadata": {
        "id": "TTjq9a8XzSS1"
      }
    },
    {
      "cell_type": "code",
      "source": [
        "#Test url with emoji's https://www.youtube.com/watch?v=las-iT6Vp6g\n",
        "#Test url with links https://www.youtube.com/watch?v=Ou3v8-ngN6Y\n",
        "#Test url with punctuations https://www.youtube.com/watch?v=tktKJWdLv10\n",
        "#Test with most comments https://www.youtube.com/watch?v=gdZLi9oWNZg\n",
        "url_input = \"https://www.youtube.com/watch?v=rWcXunmleMk\"\n",
        "video_id_split =url_input.split('=')\n",
        "video_id=video_id_split[1]"
      ],
      "metadata": {
        "id": "dTZRUU1wzlyE"
      },
      "execution_count": 3,
      "outputs": []
    },
    {
      "cell_type": "markdown",
      "source": [
        "## Total number of comments"
      ],
      "metadata": {
        "id": "E_LVaalQ0EsC"
      }
    },
    {
      "cell_type": "markdown",
      "source": [
        "#### *Quota impact: A call to this method has a quota cost of 1 unit.*\n",
        "#### *1 call returns 20 comments* \n",
        "#### *Daily quota limit = 10,000 unit (Daily quotas reset at midnight Pacific Time (PT) = 12.45 PM NPT)* \n",
        "#### *Total number of comments that can be retrived in a day ~ 10,000 * 20 = 200,000* \n",
        "#### *Approximately < 195,000 comment's can be retrived in a day*\n"
      ],
      "metadata": {
        "id": "R6miTKrI_XFg"
      }
    },
    {
      "cell_type": "code",
      "execution_count": 4,
      "metadata": {
        "id": "ux3dzJ147Aug",
        "colab": {
          "base_uri": "https://localhost:8080/"
        },
        "outputId": "8b3b87d9-c491-48b1-ffd1-808977eb754d"
      },
      "outputs": [
        {
          "output_type": "stream",
          "name": "stdout",
          "text": [
            "2578\n"
          ]
        }
      ],
      "source": [
        "api_key = ''\n",
        "url = 'https://www.googleapis.com/youtube/v3/videos?id='+video_id+'&key='+api_key+'&part=snippet,contentDetails,statistics,status'\n",
        "response_info=requests.get(url).json()\n",
        "comments=[]\n",
        "for comment_count in response_info['items']:\n",
        " comments.append(comment_count['statistics'])\n",
        "for val in comments:\n",
        "  total = int(val['commentCount'])\n",
        "print(total)\n",
        "if(total>=195000):\n",
        "  print(\"Cannot retrive more than 195,000 comments\")"
      ]
    },
    {
      "cell_type": "markdown",
      "source": [
        "## ***(Additional)*** For viewing the number of dislikes in the video"
      ],
      "metadata": {
        "id": "qutWFy4uSYUh"
      }
    },
    {
      "cell_type": "code",
      "source": [
        "url_api = \"https://returnyoutubedislikeapi.com/votes?videoId=\"+video_id\n",
        "response_API=requests.get(url_api)\n",
        "data = response_API.text\n",
        "parse_json = json.loads(data)\n",
        "number_dislikes = parse_json['dislikes']\n",
        "print(number_dislikes)"
      ],
      "metadata": {
        "colab": {
          "base_uri": "https://localhost:8080/"
        },
        "id": "pEzXH6gzSjq0",
        "outputId": "00493dc4-d5fe-41f8-e866-efc394760b9d"
      },
      "execution_count": 5,
      "outputs": [
        {
          "output_type": "stream",
          "name": "stdout",
          "text": [
            "2711\n"
          ]
        }
      ]
    },
    {
      "cell_type": "markdown",
      "source": [
        "## Storing all the comments in a list\n"
      ],
      "metadata": {
        "id": "XOLb_R6Q0Q4R"
      }
    },
    {
      "cell_type": "code",
      "source": [
        "def getAllTopLevelCommentReplies(topCommentId, replies, token): \n",
        "    replies_response=youtube.comments().list(part='snippet',\n",
        "                                               maxResults=100,\n",
        "                                               parentId=topCommentId,\n",
        "                                               pageToken=token).execute()\n",
        "\n",
        "    for item in replies_response['items']:\n",
        "        replies.append(item['snippet']['textDisplay'])\n",
        "    if \"nextPageToken\" in replies_response: \n",
        "      return getAllTopLevelCommentReplies(topCommentId, replies, replies_response['nextPageToken'])\n",
        "    else:\n",
        "      return replies\n",
        "      \n",
        "def get_comments(youtube, video_id, comments=[], token=''):\n",
        "  totalReplyCount = 0\n",
        "  replies=[]\n",
        "\n",
        "  video_response=youtube.commentThreads().list(part='snippet',\n",
        "                                               videoId=video_id,\n",
        "                                               pageToken=token).execute()\n",
        "  for item in video_response['items']:\n",
        "            comment = item['snippet']['topLevelComment']\n",
        "            text = comment['snippet']['textDisplay']\n",
        "            totalReplyCount = item['snippet']['totalReplyCount']\n",
        "            if (totalReplyCount > 0): \n",
        "               comments.extend(getAllTopLevelCommentReplies(comment['id'], replies, None)) \n",
        "            else: \n",
        "               comments.append(text)\n",
        "            replies = []\n",
        "\n",
        "  if \"nextPageToken\" in video_response: \n",
        "        return get_comments(youtube, video_id, comments, video_response['nextPageToken'])\n",
        "  else:\n",
        "        return comments\n",
        "\n",
        "youtube = build('youtube', 'v3',developerKey=api_key)\n",
        "comments = get_comments(youtube,video_id)\n",
        "print(len(comments))"
      ],
      "metadata": {
        "colab": {
          "base_uri": "https://localhost:8080/"
        },
        "id": "9F72rZSn0UP8",
        "outputId": "2745e727-a3ee-4b97-bd92-675cbe12bab0"
      },
      "execution_count": 6,
      "outputs": [
        {
          "output_type": "stream",
          "name": "stdout",
          "text": [
            "2466\n"
          ]
        }
      ]
    },
    {
      "cell_type": "markdown",
      "source": [
        "## Converting the list to dataframe\n"
      ],
      "metadata": {
        "id": "laKGmzTlg0jX"
      }
    },
    {
      "cell_type": "code",
      "source": [
        "df_from_yt = pd.DataFrame(comments,columns=['Comments'])\n",
        "print(df_from_yt)"
      ],
      "metadata": {
        "colab": {
          "base_uri": "https://localhost:8080/"
        },
        "id": "faOLPHyEce7n",
        "outputId": "04133a49-4772-415f-95fa-df46e7737ab0"
      },
      "execution_count": 7,
      "outputs": [
        {
          "output_type": "stream",
          "name": "stdout",
          "text": [
            "                                               Comments\n",
            "0     <a href=\"https://www.youtube.com/watch?v=rWcXu...\n",
            "1                        That Russia Ukraine joke 200iq\n",
            "2                                                naveed\n",
            "3     <a href=\"https://www.youtube.com/watch?v=rWcXu...\n",
            "4                                RPI kehta hai....🤣🤣🤣🤣🤣\n",
            "...                                                 ...\n",
            "2461                                               Same\n",
            "2462                                             Agreed\n",
            "2463  I Respect Everyone who were involved in this ,...\n",
            "2464                                             Second\n",
            "2465                               I&#39;ll support you\n",
            "\n",
            "[2466 rows x 1 columns]\n"
          ]
        }
      ]
    },
    {
      "cell_type": "markdown",
      "source": [
        "# Data Cleaning\n"
      ],
      "metadata": {
        "id": "BPT2_sP9ITA2"
      }
    },
    {
      "cell_type": "markdown",
      "source": [
        "### Removing all the emoji's from the dataframe\n"
      ],
      "metadata": {
        "id": "y1lLzos3g4B7"
      }
    },
    {
      "cell_type": "code",
      "source": [
        "df_from_yt = df_from_yt.astype(str).apply(lambda x: x.str.encode('ascii', 'ignore').str.decode('ascii'))\n",
        "df_from_yt"
      ],
      "metadata": {
        "colab": {
          "base_uri": "https://localhost:8080/",
          "height": 424
        },
        "id": "lT3a0stbg8jH",
        "outputId": "b4a0141a-c16f-4a52-f7b1-6187fd068309"
      },
      "execution_count": 8,
      "outputs": [
        {
          "output_type": "execute_result",
          "data": {
            "text/plain": [
              "                                               Comments\n",
              "0     <a href=\"https://www.youtube.com/watch?v=rWcXu...\n",
              "1                        That Russia Ukraine joke 200iq\n",
              "2                                                naveed\n",
              "3     <a href=\"https://www.youtube.com/watch?v=rWcXu...\n",
              "4                                     RPI kehta hai....\n",
              "...                                                 ...\n",
              "2461                                               Same\n",
              "2462                                             Agreed\n",
              "2463  I Respect Everyone who were involved in this ,...\n",
              "2464                                             Second\n",
              "2465                               I&#39;ll support you\n",
              "\n",
              "[2466 rows x 1 columns]"
            ],
            "text/html": [
              "\n",
              "  <div id=\"df-da200f81-c0e8-4e9d-a1db-2a33a9542357\">\n",
              "    <div class=\"colab-df-container\">\n",
              "      <div>\n",
              "<style scoped>\n",
              "    .dataframe tbody tr th:only-of-type {\n",
              "        vertical-align: middle;\n",
              "    }\n",
              "\n",
              "    .dataframe tbody tr th {\n",
              "        vertical-align: top;\n",
              "    }\n",
              "\n",
              "    .dataframe thead th {\n",
              "        text-align: right;\n",
              "    }\n",
              "</style>\n",
              "<table border=\"1\" class=\"dataframe\">\n",
              "  <thead>\n",
              "    <tr style=\"text-align: right;\">\n",
              "      <th></th>\n",
              "      <th>Comments</th>\n",
              "    </tr>\n",
              "  </thead>\n",
              "  <tbody>\n",
              "    <tr>\n",
              "      <th>0</th>\n",
              "      <td>&lt;a href=\"https://www.youtube.com/watch?v=rWcXu...</td>\n",
              "    </tr>\n",
              "    <tr>\n",
              "      <th>1</th>\n",
              "      <td>That Russia Ukraine joke 200iq</td>\n",
              "    </tr>\n",
              "    <tr>\n",
              "      <th>2</th>\n",
              "      <td>naveed</td>\n",
              "    </tr>\n",
              "    <tr>\n",
              "      <th>3</th>\n",
              "      <td>&lt;a href=\"https://www.youtube.com/watch?v=rWcXu...</td>\n",
              "    </tr>\n",
              "    <tr>\n",
              "      <th>4</th>\n",
              "      <td>RPI kehta hai....</td>\n",
              "    </tr>\n",
              "    <tr>\n",
              "      <th>...</th>\n",
              "      <td>...</td>\n",
              "    </tr>\n",
              "    <tr>\n",
              "      <th>2461</th>\n",
              "      <td>Same</td>\n",
              "    </tr>\n",
              "    <tr>\n",
              "      <th>2462</th>\n",
              "      <td>Agreed</td>\n",
              "    </tr>\n",
              "    <tr>\n",
              "      <th>2463</th>\n",
              "      <td>I Respect Everyone who were involved in this ,...</td>\n",
              "    </tr>\n",
              "    <tr>\n",
              "      <th>2464</th>\n",
              "      <td>Second</td>\n",
              "    </tr>\n",
              "    <tr>\n",
              "      <th>2465</th>\n",
              "      <td>I&amp;#39;ll support you</td>\n",
              "    </tr>\n",
              "  </tbody>\n",
              "</table>\n",
              "<p>2466 rows × 1 columns</p>\n",
              "</div>\n",
              "      <button class=\"colab-df-convert\" onclick=\"convertToInteractive('df-da200f81-c0e8-4e9d-a1db-2a33a9542357')\"\n",
              "              title=\"Convert this dataframe to an interactive table.\"\n",
              "              style=\"display:none;\">\n",
              "        \n",
              "  <svg xmlns=\"http://www.w3.org/2000/svg\" height=\"24px\"viewBox=\"0 0 24 24\"\n",
              "       width=\"24px\">\n",
              "    <path d=\"M0 0h24v24H0V0z\" fill=\"none\"/>\n",
              "    <path d=\"M18.56 5.44l.94 2.06.94-2.06 2.06-.94-2.06-.94-.94-2.06-.94 2.06-2.06.94zm-11 1L8.5 8.5l.94-2.06 2.06-.94-2.06-.94L8.5 2.5l-.94 2.06-2.06.94zm10 10l.94 2.06.94-2.06 2.06-.94-2.06-.94-.94-2.06-.94 2.06-2.06.94z\"/><path d=\"M17.41 7.96l-1.37-1.37c-.4-.4-.92-.59-1.43-.59-.52 0-1.04.2-1.43.59L10.3 9.45l-7.72 7.72c-.78.78-.78 2.05 0 2.83L4 21.41c.39.39.9.59 1.41.59.51 0 1.02-.2 1.41-.59l7.78-7.78 2.81-2.81c.8-.78.8-2.07 0-2.86zM5.41 20L4 18.59l7.72-7.72 1.47 1.35L5.41 20z\"/>\n",
              "  </svg>\n",
              "      </button>\n",
              "      \n",
              "  <style>\n",
              "    .colab-df-container {\n",
              "      display:flex;\n",
              "      flex-wrap:wrap;\n",
              "      gap: 12px;\n",
              "    }\n",
              "\n",
              "    .colab-df-convert {\n",
              "      background-color: #E8F0FE;\n",
              "      border: none;\n",
              "      border-radius: 50%;\n",
              "      cursor: pointer;\n",
              "      display: none;\n",
              "      fill: #1967D2;\n",
              "      height: 32px;\n",
              "      padding: 0 0 0 0;\n",
              "      width: 32px;\n",
              "    }\n",
              "\n",
              "    .colab-df-convert:hover {\n",
              "      background-color: #E2EBFA;\n",
              "      box-shadow: 0px 1px 2px rgba(60, 64, 67, 0.3), 0px 1px 3px 1px rgba(60, 64, 67, 0.15);\n",
              "      fill: #174EA6;\n",
              "    }\n",
              "\n",
              "    [theme=dark] .colab-df-convert {\n",
              "      background-color: #3B4455;\n",
              "      fill: #D2E3FC;\n",
              "    }\n",
              "\n",
              "    [theme=dark] .colab-df-convert:hover {\n",
              "      background-color: #434B5C;\n",
              "      box-shadow: 0px 1px 3px 1px rgba(0, 0, 0, 0.15);\n",
              "      filter: drop-shadow(0px 1px 2px rgba(0, 0, 0, 0.3));\n",
              "      fill: #FFFFFF;\n",
              "    }\n",
              "  </style>\n",
              "\n",
              "      <script>\n",
              "        const buttonEl =\n",
              "          document.querySelector('#df-da200f81-c0e8-4e9d-a1db-2a33a9542357 button.colab-df-convert');\n",
              "        buttonEl.style.display =\n",
              "          google.colab.kernel.accessAllowed ? 'block' : 'none';\n",
              "\n",
              "        async function convertToInteractive(key) {\n",
              "          const element = document.querySelector('#df-da200f81-c0e8-4e9d-a1db-2a33a9542357');\n",
              "          const dataTable =\n",
              "            await google.colab.kernel.invokeFunction('convertToInteractive',\n",
              "                                                     [key], {});\n",
              "          if (!dataTable) return;\n",
              "\n",
              "          const docLinkHtml = 'Like what you see? Visit the ' +\n",
              "            '<a target=\"_blank\" href=https://colab.research.google.com/notebooks/data_table.ipynb>data table notebook</a>'\n",
              "            + ' to learn more about interactive tables.';\n",
              "          element.innerHTML = '';\n",
              "          dataTable['output_type'] = 'display_data';\n",
              "          await google.colab.output.renderOutput(dataTable, element);\n",
              "          const docLink = document.createElement('div');\n",
              "          docLink.innerHTML = docLinkHtml;\n",
              "          element.appendChild(docLink);\n",
              "        }\n",
              "      </script>\n",
              "    </div>\n",
              "  </div>\n",
              "  "
            ]
          },
          "metadata": {},
          "execution_count": 8
        }
      ]
    },
    {
      "cell_type": "markdown",
      "source": [
        "### Removing all the url's from the data frame"
      ],
      "metadata": {
        "id": "U9-yS52shjBZ"
      }
    },
    {
      "cell_type": "code",
      "source": [
        "df_from_yt['Comments'] = df_from_yt['Comments'].apply(lambda x: re.split('<a href=\"https:\\/\\/.*', str(x))[0])\n",
        "df_from_yt"
      ],
      "metadata": {
        "colab": {
          "base_uri": "https://localhost:8080/",
          "height": 424
        },
        "id": "UejDThh3hime",
        "outputId": "858ee0a1-8511-4732-c0ff-75db0c7d71c1"
      },
      "execution_count": 9,
      "outputs": [
        {
          "output_type": "execute_result",
          "data": {
            "text/plain": [
              "                                               Comments\n",
              "0                                                      \n",
              "1                        That Russia Ukraine joke 200iq\n",
              "2                                                naveed\n",
              "3                                                      \n",
              "4                                     RPI kehta hai....\n",
              "...                                                 ...\n",
              "2461                                               Same\n",
              "2462                                             Agreed\n",
              "2463  I Respect Everyone who were involved in this ,...\n",
              "2464                                             Second\n",
              "2465                               I&#39;ll support you\n",
              "\n",
              "[2466 rows x 1 columns]"
            ],
            "text/html": [
              "\n",
              "  <div id=\"df-236b6ce5-6dfb-47a9-845b-9a92ab3cd62c\">\n",
              "    <div class=\"colab-df-container\">\n",
              "      <div>\n",
              "<style scoped>\n",
              "    .dataframe tbody tr th:only-of-type {\n",
              "        vertical-align: middle;\n",
              "    }\n",
              "\n",
              "    .dataframe tbody tr th {\n",
              "        vertical-align: top;\n",
              "    }\n",
              "\n",
              "    .dataframe thead th {\n",
              "        text-align: right;\n",
              "    }\n",
              "</style>\n",
              "<table border=\"1\" class=\"dataframe\">\n",
              "  <thead>\n",
              "    <tr style=\"text-align: right;\">\n",
              "      <th></th>\n",
              "      <th>Comments</th>\n",
              "    </tr>\n",
              "  </thead>\n",
              "  <tbody>\n",
              "    <tr>\n",
              "      <th>0</th>\n",
              "      <td></td>\n",
              "    </tr>\n",
              "    <tr>\n",
              "      <th>1</th>\n",
              "      <td>That Russia Ukraine joke 200iq</td>\n",
              "    </tr>\n",
              "    <tr>\n",
              "      <th>2</th>\n",
              "      <td>naveed</td>\n",
              "    </tr>\n",
              "    <tr>\n",
              "      <th>3</th>\n",
              "      <td></td>\n",
              "    </tr>\n",
              "    <tr>\n",
              "      <th>4</th>\n",
              "      <td>RPI kehta hai....</td>\n",
              "    </tr>\n",
              "    <tr>\n",
              "      <th>...</th>\n",
              "      <td>...</td>\n",
              "    </tr>\n",
              "    <tr>\n",
              "      <th>2461</th>\n",
              "      <td>Same</td>\n",
              "    </tr>\n",
              "    <tr>\n",
              "      <th>2462</th>\n",
              "      <td>Agreed</td>\n",
              "    </tr>\n",
              "    <tr>\n",
              "      <th>2463</th>\n",
              "      <td>I Respect Everyone who were involved in this ,...</td>\n",
              "    </tr>\n",
              "    <tr>\n",
              "      <th>2464</th>\n",
              "      <td>Second</td>\n",
              "    </tr>\n",
              "    <tr>\n",
              "      <th>2465</th>\n",
              "      <td>I&amp;#39;ll support you</td>\n",
              "    </tr>\n",
              "  </tbody>\n",
              "</table>\n",
              "<p>2466 rows × 1 columns</p>\n",
              "</div>\n",
              "      <button class=\"colab-df-convert\" onclick=\"convertToInteractive('df-236b6ce5-6dfb-47a9-845b-9a92ab3cd62c')\"\n",
              "              title=\"Convert this dataframe to an interactive table.\"\n",
              "              style=\"display:none;\">\n",
              "        \n",
              "  <svg xmlns=\"http://www.w3.org/2000/svg\" height=\"24px\"viewBox=\"0 0 24 24\"\n",
              "       width=\"24px\">\n",
              "    <path d=\"M0 0h24v24H0V0z\" fill=\"none\"/>\n",
              "    <path d=\"M18.56 5.44l.94 2.06.94-2.06 2.06-.94-2.06-.94-.94-2.06-.94 2.06-2.06.94zm-11 1L8.5 8.5l.94-2.06 2.06-.94-2.06-.94L8.5 2.5l-.94 2.06-2.06.94zm10 10l.94 2.06.94-2.06 2.06-.94-2.06-.94-.94-2.06-.94 2.06-2.06.94z\"/><path d=\"M17.41 7.96l-1.37-1.37c-.4-.4-.92-.59-1.43-.59-.52 0-1.04.2-1.43.59L10.3 9.45l-7.72 7.72c-.78.78-.78 2.05 0 2.83L4 21.41c.39.39.9.59 1.41.59.51 0 1.02-.2 1.41-.59l7.78-7.78 2.81-2.81c.8-.78.8-2.07 0-2.86zM5.41 20L4 18.59l7.72-7.72 1.47 1.35L5.41 20z\"/>\n",
              "  </svg>\n",
              "      </button>\n",
              "      \n",
              "  <style>\n",
              "    .colab-df-container {\n",
              "      display:flex;\n",
              "      flex-wrap:wrap;\n",
              "      gap: 12px;\n",
              "    }\n",
              "\n",
              "    .colab-df-convert {\n",
              "      background-color: #E8F0FE;\n",
              "      border: none;\n",
              "      border-radius: 50%;\n",
              "      cursor: pointer;\n",
              "      display: none;\n",
              "      fill: #1967D2;\n",
              "      height: 32px;\n",
              "      padding: 0 0 0 0;\n",
              "      width: 32px;\n",
              "    }\n",
              "\n",
              "    .colab-df-convert:hover {\n",
              "      background-color: #E2EBFA;\n",
              "      box-shadow: 0px 1px 2px rgba(60, 64, 67, 0.3), 0px 1px 3px 1px rgba(60, 64, 67, 0.15);\n",
              "      fill: #174EA6;\n",
              "    }\n",
              "\n",
              "    [theme=dark] .colab-df-convert {\n",
              "      background-color: #3B4455;\n",
              "      fill: #D2E3FC;\n",
              "    }\n",
              "\n",
              "    [theme=dark] .colab-df-convert:hover {\n",
              "      background-color: #434B5C;\n",
              "      box-shadow: 0px 1px 3px 1px rgba(0, 0, 0, 0.15);\n",
              "      filter: drop-shadow(0px 1px 2px rgba(0, 0, 0, 0.3));\n",
              "      fill: #FFFFFF;\n",
              "    }\n",
              "  </style>\n",
              "\n",
              "      <script>\n",
              "        const buttonEl =\n",
              "          document.querySelector('#df-236b6ce5-6dfb-47a9-845b-9a92ab3cd62c button.colab-df-convert');\n",
              "        buttonEl.style.display =\n",
              "          google.colab.kernel.accessAllowed ? 'block' : 'none';\n",
              "\n",
              "        async function convertToInteractive(key) {\n",
              "          const element = document.querySelector('#df-236b6ce5-6dfb-47a9-845b-9a92ab3cd62c');\n",
              "          const dataTable =\n",
              "            await google.colab.kernel.invokeFunction('convertToInteractive',\n",
              "                                                     [key], {});\n",
              "          if (!dataTable) return;\n",
              "\n",
              "          const docLinkHtml = 'Like what you see? Visit the ' +\n",
              "            '<a target=\"_blank\" href=https://colab.research.google.com/notebooks/data_table.ipynb>data table notebook</a>'\n",
              "            + ' to learn more about interactive tables.';\n",
              "          element.innerHTML = '';\n",
              "          dataTable['output_type'] = 'display_data';\n",
              "          await google.colab.output.renderOutput(dataTable, element);\n",
              "          const docLink = document.createElement('div');\n",
              "          docLink.innerHTML = docLinkHtml;\n",
              "          element.appendChild(docLink);\n",
              "        }\n",
              "      </script>\n",
              "    </div>\n",
              "  </div>\n",
              "  "
            ]
          },
          "metadata": {},
          "execution_count": 9
        }
      ]
    },
    {
      "cell_type": "markdown",
      "source": [
        "### Removing all special characters"
      ],
      "metadata": {
        "id": "Qwr5FRKUTGUc"
      }
    },
    {
      "cell_type": "code",
      "source": [
        "def process_content(content):\n",
        "    return \" \".join(re.findall(\"[A-Za-z]+\",content))\n",
        "\n",
        "df_from_yt['Comments'] = df_from_yt['Comments'].apply(process_content)\n",
        "df_from_yt"
      ],
      "metadata": {
        "colab": {
          "base_uri": "https://localhost:8080/",
          "height": 424
        },
        "id": "ZfZO_NBLpebh",
        "outputId": "7fa1f003-ccfd-43fa-cfc6-5e030ac44dbe"
      },
      "execution_count": 10,
      "outputs": [
        {
          "output_type": "execute_result",
          "data": {
            "text/plain": [
              "                                               Comments\n",
              "0                                                      \n",
              "1                           That Russia Ukraine joke iq\n",
              "2                                                naveed\n",
              "3                                                      \n",
              "4                                         RPI kehta hai\n",
              "...                                                 ...\n",
              "2461                                               Same\n",
              "2462                                             Agreed\n",
              "2463  I Respect Everyone who were involved in this S...\n",
              "2464                                             Second\n",
              "2465                                   I ll support you\n",
              "\n",
              "[2466 rows x 1 columns]"
            ],
            "text/html": [
              "\n",
              "  <div id=\"df-016621a1-5cc5-46e9-9d7d-767a3c1eb245\">\n",
              "    <div class=\"colab-df-container\">\n",
              "      <div>\n",
              "<style scoped>\n",
              "    .dataframe tbody tr th:only-of-type {\n",
              "        vertical-align: middle;\n",
              "    }\n",
              "\n",
              "    .dataframe tbody tr th {\n",
              "        vertical-align: top;\n",
              "    }\n",
              "\n",
              "    .dataframe thead th {\n",
              "        text-align: right;\n",
              "    }\n",
              "</style>\n",
              "<table border=\"1\" class=\"dataframe\">\n",
              "  <thead>\n",
              "    <tr style=\"text-align: right;\">\n",
              "      <th></th>\n",
              "      <th>Comments</th>\n",
              "    </tr>\n",
              "  </thead>\n",
              "  <tbody>\n",
              "    <tr>\n",
              "      <th>0</th>\n",
              "      <td></td>\n",
              "    </tr>\n",
              "    <tr>\n",
              "      <th>1</th>\n",
              "      <td>That Russia Ukraine joke iq</td>\n",
              "    </tr>\n",
              "    <tr>\n",
              "      <th>2</th>\n",
              "      <td>naveed</td>\n",
              "    </tr>\n",
              "    <tr>\n",
              "      <th>3</th>\n",
              "      <td></td>\n",
              "    </tr>\n",
              "    <tr>\n",
              "      <th>4</th>\n",
              "      <td>RPI kehta hai</td>\n",
              "    </tr>\n",
              "    <tr>\n",
              "      <th>...</th>\n",
              "      <td>...</td>\n",
              "    </tr>\n",
              "    <tr>\n",
              "      <th>2461</th>\n",
              "      <td>Same</td>\n",
              "    </tr>\n",
              "    <tr>\n",
              "      <th>2462</th>\n",
              "      <td>Agreed</td>\n",
              "    </tr>\n",
              "    <tr>\n",
              "      <th>2463</th>\n",
              "      <td>I Respect Everyone who were involved in this S...</td>\n",
              "    </tr>\n",
              "    <tr>\n",
              "      <th>2464</th>\n",
              "      <td>Second</td>\n",
              "    </tr>\n",
              "    <tr>\n",
              "      <th>2465</th>\n",
              "      <td>I ll support you</td>\n",
              "    </tr>\n",
              "  </tbody>\n",
              "</table>\n",
              "<p>2466 rows × 1 columns</p>\n",
              "</div>\n",
              "      <button class=\"colab-df-convert\" onclick=\"convertToInteractive('df-016621a1-5cc5-46e9-9d7d-767a3c1eb245')\"\n",
              "              title=\"Convert this dataframe to an interactive table.\"\n",
              "              style=\"display:none;\">\n",
              "        \n",
              "  <svg xmlns=\"http://www.w3.org/2000/svg\" height=\"24px\"viewBox=\"0 0 24 24\"\n",
              "       width=\"24px\">\n",
              "    <path d=\"M0 0h24v24H0V0z\" fill=\"none\"/>\n",
              "    <path d=\"M18.56 5.44l.94 2.06.94-2.06 2.06-.94-2.06-.94-.94-2.06-.94 2.06-2.06.94zm-11 1L8.5 8.5l.94-2.06 2.06-.94-2.06-.94L8.5 2.5l-.94 2.06-2.06.94zm10 10l.94 2.06.94-2.06 2.06-.94-2.06-.94-.94-2.06-.94 2.06-2.06.94z\"/><path d=\"M17.41 7.96l-1.37-1.37c-.4-.4-.92-.59-1.43-.59-.52 0-1.04.2-1.43.59L10.3 9.45l-7.72 7.72c-.78.78-.78 2.05 0 2.83L4 21.41c.39.39.9.59 1.41.59.51 0 1.02-.2 1.41-.59l7.78-7.78 2.81-2.81c.8-.78.8-2.07 0-2.86zM5.41 20L4 18.59l7.72-7.72 1.47 1.35L5.41 20z\"/>\n",
              "  </svg>\n",
              "      </button>\n",
              "      \n",
              "  <style>\n",
              "    .colab-df-container {\n",
              "      display:flex;\n",
              "      flex-wrap:wrap;\n",
              "      gap: 12px;\n",
              "    }\n",
              "\n",
              "    .colab-df-convert {\n",
              "      background-color: #E8F0FE;\n",
              "      border: none;\n",
              "      border-radius: 50%;\n",
              "      cursor: pointer;\n",
              "      display: none;\n",
              "      fill: #1967D2;\n",
              "      height: 32px;\n",
              "      padding: 0 0 0 0;\n",
              "      width: 32px;\n",
              "    }\n",
              "\n",
              "    .colab-df-convert:hover {\n",
              "      background-color: #E2EBFA;\n",
              "      box-shadow: 0px 1px 2px rgba(60, 64, 67, 0.3), 0px 1px 3px 1px rgba(60, 64, 67, 0.15);\n",
              "      fill: #174EA6;\n",
              "    }\n",
              "\n",
              "    [theme=dark] .colab-df-convert {\n",
              "      background-color: #3B4455;\n",
              "      fill: #D2E3FC;\n",
              "    }\n",
              "\n",
              "    [theme=dark] .colab-df-convert:hover {\n",
              "      background-color: #434B5C;\n",
              "      box-shadow: 0px 1px 3px 1px rgba(0, 0, 0, 0.15);\n",
              "      filter: drop-shadow(0px 1px 2px rgba(0, 0, 0, 0.3));\n",
              "      fill: #FFFFFF;\n",
              "    }\n",
              "  </style>\n",
              "\n",
              "      <script>\n",
              "        const buttonEl =\n",
              "          document.querySelector('#df-016621a1-5cc5-46e9-9d7d-767a3c1eb245 button.colab-df-convert');\n",
              "        buttonEl.style.display =\n",
              "          google.colab.kernel.accessAllowed ? 'block' : 'none';\n",
              "\n",
              "        async function convertToInteractive(key) {\n",
              "          const element = document.querySelector('#df-016621a1-5cc5-46e9-9d7d-767a3c1eb245');\n",
              "          const dataTable =\n",
              "            await google.colab.kernel.invokeFunction('convertToInteractive',\n",
              "                                                     [key], {});\n",
              "          if (!dataTable) return;\n",
              "\n",
              "          const docLinkHtml = 'Like what you see? Visit the ' +\n",
              "            '<a target=\"_blank\" href=https://colab.research.google.com/notebooks/data_table.ipynb>data table notebook</a>'\n",
              "            + ' to learn more about interactive tables.';\n",
              "          element.innerHTML = '';\n",
              "          dataTable['output_type'] = 'display_data';\n",
              "          await google.colab.output.renderOutput(dataTable, element);\n",
              "          const docLink = document.createElement('div');\n",
              "          docLink.innerHTML = docLinkHtml;\n",
              "          element.appendChild(docLink);\n",
              "        }\n",
              "      </script>\n",
              "    </div>\n",
              "  </div>\n",
              "  "
            ]
          },
          "metadata": {},
          "execution_count": 10
        }
      ]
    },
    {
      "cell_type": "markdown",
      "source": [
        "### Converting to lower case"
      ],
      "metadata": {
        "id": "GWwzfZKqtFKR"
      }
    },
    {
      "cell_type": "code",
      "source": [
        "df_from_yt['Comments'] = df_from_yt['Comments'].str.lower()\n",
        "df_from_yt"
      ],
      "metadata": {
        "colab": {
          "base_uri": "https://localhost:8080/",
          "height": 424
        },
        "id": "cEMyEvcotIrm",
        "outputId": "befeeb6f-ebd8-4178-db8e-8b137de9768e"
      },
      "execution_count": 11,
      "outputs": [
        {
          "output_type": "execute_result",
          "data": {
            "text/plain": [
              "                                               Comments\n",
              "0                                                      \n",
              "1                           that russia ukraine joke iq\n",
              "2                                                naveed\n",
              "3                                                      \n",
              "4                                         rpi kehta hai\n",
              "...                                                 ...\n",
              "2461                                               same\n",
              "2462                                             agreed\n",
              "2463  i respect everyone who were involved in this s...\n",
              "2464                                             second\n",
              "2465                                   i ll support you\n",
              "\n",
              "[2466 rows x 1 columns]"
            ],
            "text/html": [
              "\n",
              "  <div id=\"df-5a1b4b2c-ed91-4560-acbd-ddf5182440f0\">\n",
              "    <div class=\"colab-df-container\">\n",
              "      <div>\n",
              "<style scoped>\n",
              "    .dataframe tbody tr th:only-of-type {\n",
              "        vertical-align: middle;\n",
              "    }\n",
              "\n",
              "    .dataframe tbody tr th {\n",
              "        vertical-align: top;\n",
              "    }\n",
              "\n",
              "    .dataframe thead th {\n",
              "        text-align: right;\n",
              "    }\n",
              "</style>\n",
              "<table border=\"1\" class=\"dataframe\">\n",
              "  <thead>\n",
              "    <tr style=\"text-align: right;\">\n",
              "      <th></th>\n",
              "      <th>Comments</th>\n",
              "    </tr>\n",
              "  </thead>\n",
              "  <tbody>\n",
              "    <tr>\n",
              "      <th>0</th>\n",
              "      <td></td>\n",
              "    </tr>\n",
              "    <tr>\n",
              "      <th>1</th>\n",
              "      <td>that russia ukraine joke iq</td>\n",
              "    </tr>\n",
              "    <tr>\n",
              "      <th>2</th>\n",
              "      <td>naveed</td>\n",
              "    </tr>\n",
              "    <tr>\n",
              "      <th>3</th>\n",
              "      <td></td>\n",
              "    </tr>\n",
              "    <tr>\n",
              "      <th>4</th>\n",
              "      <td>rpi kehta hai</td>\n",
              "    </tr>\n",
              "    <tr>\n",
              "      <th>...</th>\n",
              "      <td>...</td>\n",
              "    </tr>\n",
              "    <tr>\n",
              "      <th>2461</th>\n",
              "      <td>same</td>\n",
              "    </tr>\n",
              "    <tr>\n",
              "      <th>2462</th>\n",
              "      <td>agreed</td>\n",
              "    </tr>\n",
              "    <tr>\n",
              "      <th>2463</th>\n",
              "      <td>i respect everyone who were involved in this s...</td>\n",
              "    </tr>\n",
              "    <tr>\n",
              "      <th>2464</th>\n",
              "      <td>second</td>\n",
              "    </tr>\n",
              "    <tr>\n",
              "      <th>2465</th>\n",
              "      <td>i ll support you</td>\n",
              "    </tr>\n",
              "  </tbody>\n",
              "</table>\n",
              "<p>2466 rows × 1 columns</p>\n",
              "</div>\n",
              "      <button class=\"colab-df-convert\" onclick=\"convertToInteractive('df-5a1b4b2c-ed91-4560-acbd-ddf5182440f0')\"\n",
              "              title=\"Convert this dataframe to an interactive table.\"\n",
              "              style=\"display:none;\">\n",
              "        \n",
              "  <svg xmlns=\"http://www.w3.org/2000/svg\" height=\"24px\"viewBox=\"0 0 24 24\"\n",
              "       width=\"24px\">\n",
              "    <path d=\"M0 0h24v24H0V0z\" fill=\"none\"/>\n",
              "    <path d=\"M18.56 5.44l.94 2.06.94-2.06 2.06-.94-2.06-.94-.94-2.06-.94 2.06-2.06.94zm-11 1L8.5 8.5l.94-2.06 2.06-.94-2.06-.94L8.5 2.5l-.94 2.06-2.06.94zm10 10l.94 2.06.94-2.06 2.06-.94-2.06-.94-.94-2.06-.94 2.06-2.06.94z\"/><path d=\"M17.41 7.96l-1.37-1.37c-.4-.4-.92-.59-1.43-.59-.52 0-1.04.2-1.43.59L10.3 9.45l-7.72 7.72c-.78.78-.78 2.05 0 2.83L4 21.41c.39.39.9.59 1.41.59.51 0 1.02-.2 1.41-.59l7.78-7.78 2.81-2.81c.8-.78.8-2.07 0-2.86zM5.41 20L4 18.59l7.72-7.72 1.47 1.35L5.41 20z\"/>\n",
              "  </svg>\n",
              "      </button>\n",
              "      \n",
              "  <style>\n",
              "    .colab-df-container {\n",
              "      display:flex;\n",
              "      flex-wrap:wrap;\n",
              "      gap: 12px;\n",
              "    }\n",
              "\n",
              "    .colab-df-convert {\n",
              "      background-color: #E8F0FE;\n",
              "      border: none;\n",
              "      border-radius: 50%;\n",
              "      cursor: pointer;\n",
              "      display: none;\n",
              "      fill: #1967D2;\n",
              "      height: 32px;\n",
              "      padding: 0 0 0 0;\n",
              "      width: 32px;\n",
              "    }\n",
              "\n",
              "    .colab-df-convert:hover {\n",
              "      background-color: #E2EBFA;\n",
              "      box-shadow: 0px 1px 2px rgba(60, 64, 67, 0.3), 0px 1px 3px 1px rgba(60, 64, 67, 0.15);\n",
              "      fill: #174EA6;\n",
              "    }\n",
              "\n",
              "    [theme=dark] .colab-df-convert {\n",
              "      background-color: #3B4455;\n",
              "      fill: #D2E3FC;\n",
              "    }\n",
              "\n",
              "    [theme=dark] .colab-df-convert:hover {\n",
              "      background-color: #434B5C;\n",
              "      box-shadow: 0px 1px 3px 1px rgba(0, 0, 0, 0.15);\n",
              "      filter: drop-shadow(0px 1px 2px rgba(0, 0, 0, 0.3));\n",
              "      fill: #FFFFFF;\n",
              "    }\n",
              "  </style>\n",
              "\n",
              "      <script>\n",
              "        const buttonEl =\n",
              "          document.querySelector('#df-5a1b4b2c-ed91-4560-acbd-ddf5182440f0 button.colab-df-convert');\n",
              "        buttonEl.style.display =\n",
              "          google.colab.kernel.accessAllowed ? 'block' : 'none';\n",
              "\n",
              "        async function convertToInteractive(key) {\n",
              "          const element = document.querySelector('#df-5a1b4b2c-ed91-4560-acbd-ddf5182440f0');\n",
              "          const dataTable =\n",
              "            await google.colab.kernel.invokeFunction('convertToInteractive',\n",
              "                                                     [key], {});\n",
              "          if (!dataTable) return;\n",
              "\n",
              "          const docLinkHtml = 'Like what you see? Visit the ' +\n",
              "            '<a target=\"_blank\" href=https://colab.research.google.com/notebooks/data_table.ipynb>data table notebook</a>'\n",
              "            + ' to learn more about interactive tables.';\n",
              "          element.innerHTML = '';\n",
              "          dataTable['output_type'] = 'display_data';\n",
              "          await google.colab.output.renderOutput(dataTable, element);\n",
              "          const docLink = document.createElement('div');\n",
              "          docLink.innerHTML = docLinkHtml;\n",
              "          element.appendChild(docLink);\n",
              "        }\n",
              "      </script>\n",
              "    </div>\n",
              "  </div>\n",
              "  "
            ]
          },
          "metadata": {},
          "execution_count": 11
        }
      ]
    },
    {
      "cell_type": "markdown",
      "source": [
        "### Removing empty rows"
      ],
      "metadata": {
        "id": "aj19Ea_Utud5"
      }
    },
    {
      "cell_type": "code",
      "source": [
        "df_from_yt['Comments'].replace('', np.nan, inplace=True)\n",
        "df_from_yt.dropna()"
      ],
      "metadata": {
        "colab": {
          "base_uri": "https://localhost:8080/",
          "height": 424
        },
        "id": "A8yffEK6txJ0",
        "outputId": "d8028850-3f35-4821-95f4-ce9421f50fcd"
      },
      "execution_count": 12,
      "outputs": [
        {
          "output_type": "execute_result",
          "data": {
            "text/plain": [
              "                                               Comments\n",
              "1                           that russia ukraine joke iq\n",
              "2                                                naveed\n",
              "4                                         rpi kehta hai\n",
              "5                         bhai ni chahiye ka hi bata do\n",
              "6     tumhari hasi p jyada hasi aa rhi rhi h br ahah...\n",
              "...                                                 ...\n",
              "2461                                               same\n",
              "2462                                             agreed\n",
              "2463  i respect everyone who were involved in this s...\n",
              "2464                                             second\n",
              "2465                                   i ll support you\n",
              "\n",
              "[2225 rows x 1 columns]"
            ],
            "text/html": [
              "\n",
              "  <div id=\"df-803f2230-282a-4a2a-992a-1829a78eb6a9\">\n",
              "    <div class=\"colab-df-container\">\n",
              "      <div>\n",
              "<style scoped>\n",
              "    .dataframe tbody tr th:only-of-type {\n",
              "        vertical-align: middle;\n",
              "    }\n",
              "\n",
              "    .dataframe tbody tr th {\n",
              "        vertical-align: top;\n",
              "    }\n",
              "\n",
              "    .dataframe thead th {\n",
              "        text-align: right;\n",
              "    }\n",
              "</style>\n",
              "<table border=\"1\" class=\"dataframe\">\n",
              "  <thead>\n",
              "    <tr style=\"text-align: right;\">\n",
              "      <th></th>\n",
              "      <th>Comments</th>\n",
              "    </tr>\n",
              "  </thead>\n",
              "  <tbody>\n",
              "    <tr>\n",
              "      <th>1</th>\n",
              "      <td>that russia ukraine joke iq</td>\n",
              "    </tr>\n",
              "    <tr>\n",
              "      <th>2</th>\n",
              "      <td>naveed</td>\n",
              "    </tr>\n",
              "    <tr>\n",
              "      <th>4</th>\n",
              "      <td>rpi kehta hai</td>\n",
              "    </tr>\n",
              "    <tr>\n",
              "      <th>5</th>\n",
              "      <td>bhai ni chahiye ka hi bata do</td>\n",
              "    </tr>\n",
              "    <tr>\n",
              "      <th>6</th>\n",
              "      <td>tumhari hasi p jyada hasi aa rhi rhi h br ahah...</td>\n",
              "    </tr>\n",
              "    <tr>\n",
              "      <th>...</th>\n",
              "      <td>...</td>\n",
              "    </tr>\n",
              "    <tr>\n",
              "      <th>2461</th>\n",
              "      <td>same</td>\n",
              "    </tr>\n",
              "    <tr>\n",
              "      <th>2462</th>\n",
              "      <td>agreed</td>\n",
              "    </tr>\n",
              "    <tr>\n",
              "      <th>2463</th>\n",
              "      <td>i respect everyone who were involved in this s...</td>\n",
              "    </tr>\n",
              "    <tr>\n",
              "      <th>2464</th>\n",
              "      <td>second</td>\n",
              "    </tr>\n",
              "    <tr>\n",
              "      <th>2465</th>\n",
              "      <td>i ll support you</td>\n",
              "    </tr>\n",
              "  </tbody>\n",
              "</table>\n",
              "<p>2225 rows × 1 columns</p>\n",
              "</div>\n",
              "      <button class=\"colab-df-convert\" onclick=\"convertToInteractive('df-803f2230-282a-4a2a-992a-1829a78eb6a9')\"\n",
              "              title=\"Convert this dataframe to an interactive table.\"\n",
              "              style=\"display:none;\">\n",
              "        \n",
              "  <svg xmlns=\"http://www.w3.org/2000/svg\" height=\"24px\"viewBox=\"0 0 24 24\"\n",
              "       width=\"24px\">\n",
              "    <path d=\"M0 0h24v24H0V0z\" fill=\"none\"/>\n",
              "    <path d=\"M18.56 5.44l.94 2.06.94-2.06 2.06-.94-2.06-.94-.94-2.06-.94 2.06-2.06.94zm-11 1L8.5 8.5l.94-2.06 2.06-.94-2.06-.94L8.5 2.5l-.94 2.06-2.06.94zm10 10l.94 2.06.94-2.06 2.06-.94-2.06-.94-.94-2.06-.94 2.06-2.06.94z\"/><path d=\"M17.41 7.96l-1.37-1.37c-.4-.4-.92-.59-1.43-.59-.52 0-1.04.2-1.43.59L10.3 9.45l-7.72 7.72c-.78.78-.78 2.05 0 2.83L4 21.41c.39.39.9.59 1.41.59.51 0 1.02-.2 1.41-.59l7.78-7.78 2.81-2.81c.8-.78.8-2.07 0-2.86zM5.41 20L4 18.59l7.72-7.72 1.47 1.35L5.41 20z\"/>\n",
              "  </svg>\n",
              "      </button>\n",
              "      \n",
              "  <style>\n",
              "    .colab-df-container {\n",
              "      display:flex;\n",
              "      flex-wrap:wrap;\n",
              "      gap: 12px;\n",
              "    }\n",
              "\n",
              "    .colab-df-convert {\n",
              "      background-color: #E8F0FE;\n",
              "      border: none;\n",
              "      border-radius: 50%;\n",
              "      cursor: pointer;\n",
              "      display: none;\n",
              "      fill: #1967D2;\n",
              "      height: 32px;\n",
              "      padding: 0 0 0 0;\n",
              "      width: 32px;\n",
              "    }\n",
              "\n",
              "    .colab-df-convert:hover {\n",
              "      background-color: #E2EBFA;\n",
              "      box-shadow: 0px 1px 2px rgba(60, 64, 67, 0.3), 0px 1px 3px 1px rgba(60, 64, 67, 0.15);\n",
              "      fill: #174EA6;\n",
              "    }\n",
              "\n",
              "    [theme=dark] .colab-df-convert {\n",
              "      background-color: #3B4455;\n",
              "      fill: #D2E3FC;\n",
              "    }\n",
              "\n",
              "    [theme=dark] .colab-df-convert:hover {\n",
              "      background-color: #434B5C;\n",
              "      box-shadow: 0px 1px 3px 1px rgba(0, 0, 0, 0.15);\n",
              "      filter: drop-shadow(0px 1px 2px rgba(0, 0, 0, 0.3));\n",
              "      fill: #FFFFFF;\n",
              "    }\n",
              "  </style>\n",
              "\n",
              "      <script>\n",
              "        const buttonEl =\n",
              "          document.querySelector('#df-803f2230-282a-4a2a-992a-1829a78eb6a9 button.colab-df-convert');\n",
              "        buttonEl.style.display =\n",
              "          google.colab.kernel.accessAllowed ? 'block' : 'none';\n",
              "\n",
              "        async function convertToInteractive(key) {\n",
              "          const element = document.querySelector('#df-803f2230-282a-4a2a-992a-1829a78eb6a9');\n",
              "          const dataTable =\n",
              "            await google.colab.kernel.invokeFunction('convertToInteractive',\n",
              "                                                     [key], {});\n",
              "          if (!dataTable) return;\n",
              "\n",
              "          const docLinkHtml = 'Like what you see? Visit the ' +\n",
              "            '<a target=\"_blank\" href=https://colab.research.google.com/notebooks/data_table.ipynb>data table notebook</a>'\n",
              "            + ' to learn more about interactive tables.';\n",
              "          element.innerHTML = '';\n",
              "          dataTable['output_type'] = 'display_data';\n",
              "          await google.colab.output.renderOutput(dataTable, element);\n",
              "          const docLink = document.createElement('div');\n",
              "          docLink.innerHTML = docLinkHtml;\n",
              "          element.appendChild(docLink);\n",
              "        }\n",
              "      </script>\n",
              "    </div>\n",
              "  </div>\n",
              "  "
            ]
          },
          "metadata": {},
          "execution_count": 12
        }
      ]
    },
    {
      "cell_type": "markdown",
      "source": [
        "# **Training and Testing Model for Spam Detection**"
      ],
      "metadata": {
        "id": "UVr8ivi__C9Z"
      }
    },
    {
      "cell_type": "markdown",
      "source": [
        "### Importing dataset's and storing into a dataframe "
      ],
      "metadata": {
        "id": "kvz0eD2pUDf6"
      }
    },
    {
      "cell_type": "code",
      "source": [
        "train_data=[]\n",
        "data_files = ['/content/drive/MyDrive/Youtube-Sentiment-Analysis/Youtube01-Psy.csv',\n",
        "              '/content/drive/MyDrive/Youtube-Sentiment-Analysis/Youtube02-KatyPerry.csv',\n",
        "              '/content/drive/MyDrive/Youtube-Sentiment-Analysis/Youtube03-LMFAO.csv',\n",
        "              '/content/drive/MyDrive/Youtube-Sentiment-Analysis/Youtube04-Eminem.csv',\n",
        "              '/content/drive/MyDrive/Youtube-Sentiment-Analysis/Youtube05-Shakira.csv']\n",
        "for file in data_files:\n",
        "    data = pd.read_csv(file)\n",
        "    train_data.append(data)\n",
        "train_data = pd.concat(train_data)"
      ],
      "metadata": {
        "id": "aun0zNuXBPT3"
      },
      "execution_count": 13,
      "outputs": []
    },
    {
      "cell_type": "code",
      "source": [
        "train_data.info()"
      ],
      "metadata": {
        "colab": {
          "base_uri": "https://localhost:8080/"
        },
        "id": "cDC2U_OwQ1N3",
        "outputId": "3ece0cc9-2c49-4528-b5ac-c64b2b646835"
      },
      "execution_count": 14,
      "outputs": [
        {
          "output_type": "stream",
          "name": "stdout",
          "text": [
            "<class 'pandas.core.frame.DataFrame'>\n",
            "Int64Index: 1956 entries, 0 to 369\n",
            "Data columns (total 5 columns):\n",
            " #   Column      Non-Null Count  Dtype \n",
            "---  ------      --------------  ----- \n",
            " 0   COMMENT_ID  1956 non-null   object\n",
            " 1   AUTHOR      1956 non-null   object\n",
            " 2   DATE        1711 non-null   object\n",
            " 3   CONTENT     1956 non-null   object\n",
            " 4   CLASS       1956 non-null   int64 \n",
            "dtypes: int64(1), object(4)\n",
            "memory usage: 91.7+ KB\n"
          ]
        }
      ]
    },
    {
      "cell_type": "markdown",
      "source": [
        "# Data Cleaning"
      ],
      "metadata": {
        "id": "VJc-3_SuUvhN"
      }
    },
    {
      "cell_type": "markdown",
      "source": [
        "### Dropping the columns that isn't required"
      ],
      "metadata": {
        "id": "pRwAJ-9TVb-J"
      }
    },
    {
      "cell_type": "code",
      "source": [
        "def drop_fectures(features,data):\n",
        "    data.drop(features,axis=1,inplace=True)\n",
        "\n",
        "drop_fectures(['COMMENT_ID','AUTHOR','DATE'],train_data)"
      ],
      "metadata": {
        "id": "HnqlrruCQ6sw"
      },
      "execution_count": 15,
      "outputs": []
    },
    {
      "cell_type": "markdown",
      "source": [
        "### Removing all special characters"
      ],
      "metadata": {
        "id": "g2UKlIWBVlgA"
      }
    },
    {
      "cell_type": "code",
      "source": [
        "def process_content(content):\n",
        "    return \" \".join(re.findall(\"[A-Za-z]+\",content.lower()))\n",
        "  \n",
        "train_data['CONTENT'] = train_data['CONTENT'].apply(process_content)\n",
        "train_data"
      ],
      "metadata": {
        "colab": {
          "base_uri": "https://localhost:8080/",
          "height": 424
        },
        "id": "BfPxQUBQVpkL",
        "outputId": "aa4e0891-e8b0-4f99-8772-839b68bc8af7"
      },
      "execution_count": 16,
      "outputs": [
        {
          "output_type": "execute_result",
          "data": {
            "text/plain": [
              "                                               CONTENT  CLASS\n",
              "0    huh anyway check out this you tube channel kob...      1\n",
              "1    hey guys check out my new channel and our firs...      1\n",
              "2               just for test i have to say murdev com      1\n",
              "3           me shaking my sexy ass on my channel enjoy      1\n",
              "4                   watch v vtarggvgtwq check this out      1\n",
              "..                                                 ...    ...\n",
              "365  i love this song because we sing it at camp al...      0\n",
              "366  i love this song for two reasons it is about a...      0\n",
              "367                                                wow      0\n",
              "368                            shakira u are so wiredo      0\n",
              "369                         shakira is the best dancer      0\n",
              "\n",
              "[1956 rows x 2 columns]"
            ],
            "text/html": [
              "\n",
              "  <div id=\"df-4ae0fc3e-c187-472c-ae77-391dc8c98377\">\n",
              "    <div class=\"colab-df-container\">\n",
              "      <div>\n",
              "<style scoped>\n",
              "    .dataframe tbody tr th:only-of-type {\n",
              "        vertical-align: middle;\n",
              "    }\n",
              "\n",
              "    .dataframe tbody tr th {\n",
              "        vertical-align: top;\n",
              "    }\n",
              "\n",
              "    .dataframe thead th {\n",
              "        text-align: right;\n",
              "    }\n",
              "</style>\n",
              "<table border=\"1\" class=\"dataframe\">\n",
              "  <thead>\n",
              "    <tr style=\"text-align: right;\">\n",
              "      <th></th>\n",
              "      <th>CONTENT</th>\n",
              "      <th>CLASS</th>\n",
              "    </tr>\n",
              "  </thead>\n",
              "  <tbody>\n",
              "    <tr>\n",
              "      <th>0</th>\n",
              "      <td>huh anyway check out this you tube channel kob...</td>\n",
              "      <td>1</td>\n",
              "    </tr>\n",
              "    <tr>\n",
              "      <th>1</th>\n",
              "      <td>hey guys check out my new channel and our firs...</td>\n",
              "      <td>1</td>\n",
              "    </tr>\n",
              "    <tr>\n",
              "      <th>2</th>\n",
              "      <td>just for test i have to say murdev com</td>\n",
              "      <td>1</td>\n",
              "    </tr>\n",
              "    <tr>\n",
              "      <th>3</th>\n",
              "      <td>me shaking my sexy ass on my channel enjoy</td>\n",
              "      <td>1</td>\n",
              "    </tr>\n",
              "    <tr>\n",
              "      <th>4</th>\n",
              "      <td>watch v vtarggvgtwq check this out</td>\n",
              "      <td>1</td>\n",
              "    </tr>\n",
              "    <tr>\n",
              "      <th>...</th>\n",
              "      <td>...</td>\n",
              "      <td>...</td>\n",
              "    </tr>\n",
              "    <tr>\n",
              "      <th>365</th>\n",
              "      <td>i love this song because we sing it at camp al...</td>\n",
              "      <td>0</td>\n",
              "    </tr>\n",
              "    <tr>\n",
              "      <th>366</th>\n",
              "      <td>i love this song for two reasons it is about a...</td>\n",
              "      <td>0</td>\n",
              "    </tr>\n",
              "    <tr>\n",
              "      <th>367</th>\n",
              "      <td>wow</td>\n",
              "      <td>0</td>\n",
              "    </tr>\n",
              "    <tr>\n",
              "      <th>368</th>\n",
              "      <td>shakira u are so wiredo</td>\n",
              "      <td>0</td>\n",
              "    </tr>\n",
              "    <tr>\n",
              "      <th>369</th>\n",
              "      <td>shakira is the best dancer</td>\n",
              "      <td>0</td>\n",
              "    </tr>\n",
              "  </tbody>\n",
              "</table>\n",
              "<p>1956 rows × 2 columns</p>\n",
              "</div>\n",
              "      <button class=\"colab-df-convert\" onclick=\"convertToInteractive('df-4ae0fc3e-c187-472c-ae77-391dc8c98377')\"\n",
              "              title=\"Convert this dataframe to an interactive table.\"\n",
              "              style=\"display:none;\">\n",
              "        \n",
              "  <svg xmlns=\"http://www.w3.org/2000/svg\" height=\"24px\"viewBox=\"0 0 24 24\"\n",
              "       width=\"24px\">\n",
              "    <path d=\"M0 0h24v24H0V0z\" fill=\"none\"/>\n",
              "    <path d=\"M18.56 5.44l.94 2.06.94-2.06 2.06-.94-2.06-.94-.94-2.06-.94 2.06-2.06.94zm-11 1L8.5 8.5l.94-2.06 2.06-.94-2.06-.94L8.5 2.5l-.94 2.06-2.06.94zm10 10l.94 2.06.94-2.06 2.06-.94-2.06-.94-.94-2.06-.94 2.06-2.06.94z\"/><path d=\"M17.41 7.96l-1.37-1.37c-.4-.4-.92-.59-1.43-.59-.52 0-1.04.2-1.43.59L10.3 9.45l-7.72 7.72c-.78.78-.78 2.05 0 2.83L4 21.41c.39.39.9.59 1.41.59.51 0 1.02-.2 1.41-.59l7.78-7.78 2.81-2.81c.8-.78.8-2.07 0-2.86zM5.41 20L4 18.59l7.72-7.72 1.47 1.35L5.41 20z\"/>\n",
              "  </svg>\n",
              "      </button>\n",
              "      \n",
              "  <style>\n",
              "    .colab-df-container {\n",
              "      display:flex;\n",
              "      flex-wrap:wrap;\n",
              "      gap: 12px;\n",
              "    }\n",
              "\n",
              "    .colab-df-convert {\n",
              "      background-color: #E8F0FE;\n",
              "      border: none;\n",
              "      border-radius: 50%;\n",
              "      cursor: pointer;\n",
              "      display: none;\n",
              "      fill: #1967D2;\n",
              "      height: 32px;\n",
              "      padding: 0 0 0 0;\n",
              "      width: 32px;\n",
              "    }\n",
              "\n",
              "    .colab-df-convert:hover {\n",
              "      background-color: #E2EBFA;\n",
              "      box-shadow: 0px 1px 2px rgba(60, 64, 67, 0.3), 0px 1px 3px 1px rgba(60, 64, 67, 0.15);\n",
              "      fill: #174EA6;\n",
              "    }\n",
              "\n",
              "    [theme=dark] .colab-df-convert {\n",
              "      background-color: #3B4455;\n",
              "      fill: #D2E3FC;\n",
              "    }\n",
              "\n",
              "    [theme=dark] .colab-df-convert:hover {\n",
              "      background-color: #434B5C;\n",
              "      box-shadow: 0px 1px 3px 1px rgba(0, 0, 0, 0.15);\n",
              "      filter: drop-shadow(0px 1px 2px rgba(0, 0, 0, 0.3));\n",
              "      fill: #FFFFFF;\n",
              "    }\n",
              "  </style>\n",
              "\n",
              "      <script>\n",
              "        const buttonEl =\n",
              "          document.querySelector('#df-4ae0fc3e-c187-472c-ae77-391dc8c98377 button.colab-df-convert');\n",
              "        buttonEl.style.display =\n",
              "          google.colab.kernel.accessAllowed ? 'block' : 'none';\n",
              "\n",
              "        async function convertToInteractive(key) {\n",
              "          const element = document.querySelector('#df-4ae0fc3e-c187-472c-ae77-391dc8c98377');\n",
              "          const dataTable =\n",
              "            await google.colab.kernel.invokeFunction('convertToInteractive',\n",
              "                                                     [key], {});\n",
              "          if (!dataTable) return;\n",
              "\n",
              "          const docLinkHtml = 'Like what you see? Visit the ' +\n",
              "            '<a target=\"_blank\" href=https://colab.research.google.com/notebooks/data_table.ipynb>data table notebook</a>'\n",
              "            + ' to learn more about interactive tables.';\n",
              "          element.innerHTML = '';\n",
              "          dataTable['output_type'] = 'display_data';\n",
              "          await google.colab.output.renderOutput(dataTable, element);\n",
              "          const docLink = document.createElement('div');\n",
              "          docLink.innerHTML = docLinkHtml;\n",
              "          element.appendChild(docLink);\n",
              "        }\n",
              "      </script>\n",
              "    </div>\n",
              "  </div>\n",
              "  "
            ]
          },
          "metadata": {},
          "execution_count": 16
        }
      ]
    },
    {
      "cell_type": "markdown",
      "source": [
        "# Splitting data into *train* and *test* sets"
      ],
      "metadata": {
        "id": "MRGGOYVKW_pj"
      }
    },
    {
      "cell_type": "code",
      "source": [
        "from sklearn.model_selection import train_test_split\n",
        "x_train, x_test, y_train, y_test = train_test_split(\n",
        "                                    train_data['CONTENT'],\n",
        "                                   train_data['CLASS'],\n",
        "                                   test_size=0.2,\n",
        "                                   random_state=57)"
      ],
      "metadata": {
        "id": "c96SQhcAXaZm"
      },
      "execution_count": 17,
      "outputs": []
    },
    {
      "cell_type": "markdown",
      "source": [
        "### Using [CountVectorizer](https://scikit-learn.org/stable/modules/generated/sklearn.feature_extraction.text.CountVectorizer.html) for converting  text to numerical data. "
      ],
      "metadata": {
        "id": "R6jlUVOQYBU3"
      }
    },
    {
      "cell_type": "code",
      "source": [
        "from sklearn.feature_extraction.text import CountVectorizer\n",
        "count_vect = CountVectorizer(stop_words='english')\n",
        "x_train_counts = count_vect.fit_transform(x_train)\n",
        "x_train_counts.shape"
      ],
      "metadata": {
        "colab": {
          "base_uri": "https://localhost:8080/"
        },
        "id": "oIwrbMuNYgrH",
        "outputId": "67277615-e633-4c9b-9ad1-6344fc5fa3ce"
      },
      "execution_count": 18,
      "outputs": [
        {
          "output_type": "execute_result",
          "data": {
            "text/plain": [
              "(1564, 3345)"
            ]
          },
          "metadata": {},
          "execution_count": 18
        }
      ]
    },
    {
      "cell_type": "markdown",
      "source": [
        "# Model Selection \n"
      ],
      "metadata": {
        "id": "oEj6PwisaISO"
      }
    },
    {
      "cell_type": "markdown",
      "source": [
        "### Blank list for **Comparison**"
      ],
      "metadata": {
        "id": "nCA8W1CNaQZP"
      }
    },
    {
      "cell_type": "code",
      "source": [
        "Accuracy = []\n",
        "Algorithm = []\n",
        "from sklearn.metrics import accuracy_score"
      ],
      "metadata": {
        "id": "_n-pWwc1aZD4"
      },
      "execution_count": 19,
      "outputs": []
    },
    {
      "cell_type": "markdown",
      "source": [
        "## Linear Regression"
      ],
      "metadata": {
        "id": "qPEFWuMfaiOl"
      }
    },
    {
      "cell_type": "code",
      "source": [
        "from sklearn.feature_extraction.text import TfidfTransformer\n",
        "tranformer = TfidfTransformer()\n",
        "x_train_tfidf = tranformer.fit_transform(x_train_counts)\n",
        "x_train_tfidf.shape\n",
        "x_test_counts = count_vect.transform(x_test)\n",
        "x_test_tfidf = tranformer.transform(x_test_counts)"
      ],
      "metadata": {
        "id": "JG7AKr0_dH0B"
      },
      "execution_count": 20,
      "outputs": []
    },
    {
      "cell_type": "code",
      "source": [
        "from sklearn.linear_model import LinearRegression\n",
        "Algorithm.append('LinearRegression (ML)')\n",
        "regressor = LinearRegression()\n",
        "regressor.fit(x_train_tfidf, y_train)\n",
        "predicted = regressor.predict(x_test_tfidf)"
      ],
      "metadata": {
        "id": "XVmyu65Darcq"
      },
      "execution_count": 21,
      "outputs": []
    },
    {
      "cell_type": "markdown",
      "source": [
        "### Calculating Accuracy"
      ],
      "metadata": {
        "id": "Y-6nZz_2bHAc"
      }
    },
    {
      "cell_type": "code",
      "source": [
        "a = accuracy_score(y_test,predicted.round())*100\n",
        "Accuracy.append(\"%.2f\" % a)"
      ],
      "metadata": {
        "id": "YD8vaN_-bl7Y"
      },
      "execution_count": 22,
      "outputs": []
    },
    {
      "cell_type": "markdown",
      "source": [
        "## XGBoost or Extreme Gradient Boost Regression"
      ],
      "metadata": {
        "id": "20l2dGxSk07t"
      }
    },
    {
      "cell_type": "code",
      "source": [
        "import xgboost as xgb\n",
        "Algorithm.append('XGB Regressor (ML)')\n",
        "regressor = xgb.XGBRegressor()\n",
        "regressor.fit(x_train_tfidf, y_train)\n",
        "predicted = regressor.predict(x_test_tfidf)"
      ],
      "metadata": {
        "colab": {
          "base_uri": "https://localhost:8080/"
        },
        "id": "Iw-GY3qLk4y7",
        "outputId": "f71e14ba-24b6-43a2-d3bd-d7ba20b5f6cd"
      },
      "execution_count": 23,
      "outputs": [
        {
          "output_type": "stream",
          "name": "stdout",
          "text": [
            "[12:09:18] WARNING: /workspace/src/objective/regression_obj.cu:152: reg:linear is now deprecated in favor of reg:squarederror.\n"
          ]
        }
      ]
    },
    {
      "cell_type": "markdown",
      "source": [
        "### Accuracy\n"
      ],
      "metadata": {
        "id": "rrlJyUM4lBhQ"
      }
    },
    {
      "cell_type": "code",
      "source": [
        "a = accuracy_score(y_test,predicted.round())*100\n",
        "Accuracy.append(\"%.2f\" % a)"
      ],
      "metadata": {
        "id": "DqfetouDlESM"
      },
      "execution_count": 24,
      "outputs": []
    },
    {
      "cell_type": "markdown",
      "source": [
        "##  Random Forest Regression"
      ],
      "metadata": {
        "id": "uSRrFJ4clRdG"
      }
    },
    {
      "cell_type": "code",
      "source": [
        "from sklearn.ensemble import RandomForestRegressor\n",
        "Algorithm.append('RandomForestRegressor (ML)')\n",
        "regressor = RandomForestRegressor() \n",
        "regressor.fit(x_train_tfidf, y_train)\n",
        "predicted = regressor.predict(x_test_tfidf)"
      ],
      "metadata": {
        "id": "b8UEH0u8lYzn"
      },
      "execution_count": 25,
      "outputs": []
    },
    {
      "cell_type": "markdown",
      "source": [
        "### Accuracy"
      ],
      "metadata": {
        "id": "LmZNcgaKlco5"
      }
    },
    {
      "cell_type": "code",
      "source": [
        "a = accuracy_score(y_test,predicted.round())*100\n",
        "Accuracy.append(\"%.2f\" % a)"
      ],
      "metadata": {
        "id": "zmOy9tMZmOQe"
      },
      "execution_count": 26,
      "outputs": []
    },
    {
      "cell_type": "markdown",
      "source": [
        "## Keras **(Deep Learning)**"
      ],
      "metadata": {
        "id": "1KJxA0pRnsJd"
      }
    },
    {
      "cell_type": "markdown",
      "source": [
        "### Importing"
      ],
      "metadata": {
        "id": "Ihxk7iSPtobd"
      }
    },
    {
      "cell_type": "code",
      "source": [
        "import tensorflow as tf\n",
        "import tensorflow_hub as hub\n",
        "import keras \n",
        "\n",
        "# helps in text preprocessing\n",
        "from tensorflow.keras.preprocessing.sequence import pad_sequences\n",
        "from tensorflow.keras.preprocessing.text import Tokenizer\n",
        "\n",
        "# helps in model building\n",
        "from tensorflow.keras.models import Sequential\n",
        "from tensorflow.keras.layers import Dense\n",
        "from tensorflow.keras.layers import Flatten\n",
        "from tensorflow.keras.layers import Dropout\n",
        "from tensorflow.keras.layers import Embedding\n",
        "from tensorflow.keras.callbacks import EarlyStopping"
      ],
      "metadata": {
        "id": "bvULuwetnwuV"
      },
      "execution_count": 38,
      "outputs": []
    },
    {
      "cell_type": "markdown",
      "source": [
        "### Building the model"
      ],
      "metadata": {
        "id": "SBJdVUDwtwxq"
      }
    },
    {
      "cell_type": "code",
      "source": [
        "model = \"https://tfhub.dev/google/nnlm-en-dim50/2\"\n",
        "hub_layer = hub.KerasLayer(model, input_shape=[], dtype=tf.string, trainable=True)\n",
        "\n",
        "model = tf.keras.Sequential()\n",
        "model.add(hub_layer)\n",
        "model.add(tf.keras.layers.Dense(16, activation='relu'))\n",
        "model.add(tf.keras.layers.Dense(1, activation='sigmoid'))\n",
        "\n",
        "print(model.summary())"
      ],
      "metadata": {
        "colab": {
          "base_uri": "https://localhost:8080/"
        },
        "id": "hWH7wkp-t_RK",
        "outputId": "19ab98eb-790f-4bb9-b23e-3193415eb8bd"
      },
      "execution_count": 39,
      "outputs": [
        {
          "output_type": "stream",
          "name": "stdout",
          "text": [
            "Model: \"sequential\"\n",
            "_________________________________________________________________\n",
            " Layer (type)                Output Shape              Param #   \n",
            "=================================================================\n",
            " keras_layer (KerasLayer)    (None, 50)                48190600  \n",
            "                                                                 \n",
            " dense (Dense)               (None, 16)                816       \n",
            "                                                                 \n",
            " dense_1 (Dense)             (None, 1)                 17        \n",
            "                                                                 \n",
            "=================================================================\n",
            "Total params: 48,191,433\n",
            "Trainable params: 48,191,433\n",
            "Non-trainable params: 0\n",
            "_________________________________________________________________\n",
            "None\n"
          ]
        }
      ]
    },
    {
      "cell_type": "markdown",
      "source": [
        "## Training the model"
      ],
      "metadata": {
        "id": "XFJNdDQGuRe5"
      }
    },
    {
      "cell_type": "code",
      "source": [
        "early_stop = EarlyStopping(monitor='val_loss', mode='min', verbose=1, patience=10)\n",
        "\n",
        "model.compile(optimizer='rmsprop', loss='binary_crossentropy', metrics=['accuracy'])\n",
        "\n",
        "model.fit(x_train,\n",
        "         y_train,\n",
        "         epochs=40,\n",
        "         batch_size=512,\n",
        "         validation_data=(x_test, y_test),\n",
        "         verbose=1,\n",
        "         callbacks=[early_stop]\n",
        ")"
      ],
      "metadata": {
        "colab": {
          "base_uri": "https://localhost:8080/"
        },
        "id": "KuoduFVRuTWd",
        "outputId": "772f7df1-815b-458e-b30e-a5a8ee64d262"
      },
      "execution_count": 40,
      "outputs": [
        {
          "output_type": "stream",
          "name": "stdout",
          "text": [
            "Epoch 1/40\n",
            "4/4 [==============================] - 5s 648ms/step - loss: 0.6812 - accuracy: 0.5991 - val_loss: 0.6436 - val_accuracy: 0.7500\n",
            "Epoch 2/40\n",
            "4/4 [==============================] - 2s 459ms/step - loss: 0.6328 - accuracy: 0.7519 - val_loss: 0.6164 - val_accuracy: 0.8112\n",
            "Epoch 3/40\n",
            "4/4 [==============================] - 1s 379ms/step - loss: 0.6006 - accuracy: 0.8165 - val_loss: 0.5867 - val_accuracy: 0.8138\n",
            "Epoch 4/40\n",
            "4/4 [==============================] - 2s 464ms/step - loss: 0.5687 - accuracy: 0.8306 - val_loss: 0.5632 - val_accuracy: 0.8444\n",
            "Epoch 5/40\n",
            "4/4 [==============================] - 2s 418ms/step - loss: 0.5400 - accuracy: 0.8708 - val_loss: 0.5381 - val_accuracy: 0.8520\n",
            "Epoch 6/40\n",
            "4/4 [==============================] - 2s 421ms/step - loss: 0.5111 - accuracy: 0.8894 - val_loss: 0.5164 - val_accuracy: 0.8597\n",
            "Epoch 7/40\n",
            "4/4 [==============================] - 1s 347ms/step - loss: 0.4848 - accuracy: 0.9015 - val_loss: 0.4930 - val_accuracy: 0.8648\n",
            "Epoch 8/40\n",
            "4/4 [==============================] - 1s 340ms/step - loss: 0.4580 - accuracy: 0.9092 - val_loss: 0.4705 - val_accuracy: 0.8827\n",
            "Epoch 9/40\n",
            "4/4 [==============================] - 1s 385ms/step - loss: 0.4312 - accuracy: 0.9284 - val_loss: 0.4472 - val_accuracy: 0.8852\n",
            "Epoch 10/40\n",
            "4/4 [==============================] - 1s 368ms/step - loss: 0.4047 - accuracy: 0.9348 - val_loss: 0.4254 - val_accuracy: 0.8852\n",
            "Epoch 11/40\n",
            "4/4 [==============================] - 1s 347ms/step - loss: 0.3783 - accuracy: 0.9399 - val_loss: 0.4026 - val_accuracy: 0.8980\n",
            "Epoch 12/40\n",
            "4/4 [==============================] - 1s 335ms/step - loss: 0.3519 - accuracy: 0.9431 - val_loss: 0.3838 - val_accuracy: 0.9031\n",
            "Epoch 13/40\n",
            "4/4 [==============================] - 1s 357ms/step - loss: 0.3277 - accuracy: 0.9482 - val_loss: 0.3650 - val_accuracy: 0.9056\n",
            "Epoch 14/40\n",
            "4/4 [==============================] - 1s 368ms/step - loss: 0.3056 - accuracy: 0.9501 - val_loss: 0.3478 - val_accuracy: 0.9056\n",
            "Epoch 15/40\n",
            "4/4 [==============================] - 1s 356ms/step - loss: 0.2837 - accuracy: 0.9540 - val_loss: 0.3317 - val_accuracy: 0.9133\n",
            "Epoch 16/40\n",
            "4/4 [==============================] - 1s 358ms/step - loss: 0.2641 - accuracy: 0.9584 - val_loss: 0.3166 - val_accuracy: 0.9158\n",
            "Epoch 17/40\n",
            "4/4 [==============================] - 1s 280ms/step - loss: 0.2458 - accuracy: 0.9616 - val_loss: 0.3040 - val_accuracy: 0.9209\n",
            "Epoch 18/40\n",
            "4/4 [==============================] - 1s 264ms/step - loss: 0.2301 - accuracy: 0.9623 - val_loss: 0.2918 - val_accuracy: 0.9133\n",
            "Epoch 19/40\n",
            "4/4 [==============================] - 1s 260ms/step - loss: 0.2133 - accuracy: 0.9674 - val_loss: 0.2805 - val_accuracy: 0.9158\n",
            "Epoch 20/40\n",
            "4/4 [==============================] - 1s 255ms/step - loss: 0.1984 - accuracy: 0.9699 - val_loss: 0.2697 - val_accuracy: 0.9158\n",
            "Epoch 21/40\n",
            "4/4 [==============================] - 1s 262ms/step - loss: 0.1835 - accuracy: 0.9719 - val_loss: 0.2606 - val_accuracy: 0.9107\n",
            "Epoch 22/40\n",
            "4/4 [==============================] - 1s 259ms/step - loss: 0.1697 - accuracy: 0.9744 - val_loss: 0.2524 - val_accuracy: 0.9133\n",
            "Epoch 23/40\n",
            "4/4 [==============================] - 1s 258ms/step - loss: 0.1572 - accuracy: 0.9763 - val_loss: 0.2466 - val_accuracy: 0.9184\n",
            "Epoch 24/40\n",
            "4/4 [==============================] - 1s 261ms/step - loss: 0.1458 - accuracy: 0.9770 - val_loss: 0.2391 - val_accuracy: 0.9158\n",
            "Epoch 25/40\n",
            "4/4 [==============================] - 1s 266ms/step - loss: 0.1353 - accuracy: 0.9776 - val_loss: 0.2299 - val_accuracy: 0.9184\n",
            "Epoch 26/40\n",
            "4/4 [==============================] - 1s 290ms/step - loss: 0.1259 - accuracy: 0.9789 - val_loss: 0.2262 - val_accuracy: 0.9209\n",
            "Epoch 27/40\n",
            "4/4 [==============================] - 1s 258ms/step - loss: 0.1168 - accuracy: 0.9802 - val_loss: 0.2200 - val_accuracy: 0.9235\n",
            "Epoch 28/40\n",
            "4/4 [==============================] - 1s 262ms/step - loss: 0.1086 - accuracy: 0.9808 - val_loss: 0.2174 - val_accuracy: 0.9209\n",
            "Epoch 29/40\n",
            "4/4 [==============================] - 1s 264ms/step - loss: 0.1008 - accuracy: 0.9802 - val_loss: 0.2137 - val_accuracy: 0.9209\n",
            "Epoch 30/40\n",
            "4/4 [==============================] - 1s 268ms/step - loss: 0.0934 - accuracy: 0.9827 - val_loss: 0.2118 - val_accuracy: 0.9184\n",
            "Epoch 31/40\n",
            "4/4 [==============================] - 1s 258ms/step - loss: 0.0870 - accuracy: 0.9827 - val_loss: 0.2099 - val_accuracy: 0.9209\n",
            "Epoch 32/40\n",
            "4/4 [==============================] - 1s 263ms/step - loss: 0.0807 - accuracy: 0.9834 - val_loss: 0.2097 - val_accuracy: 0.9209\n",
            "Epoch 33/40\n",
            "4/4 [==============================] - 1s 271ms/step - loss: 0.0747 - accuracy: 0.9834 - val_loss: 0.2078 - val_accuracy: 0.9184\n",
            "Epoch 34/40\n",
            "4/4 [==============================] - 1s 272ms/step - loss: 0.0693 - accuracy: 0.9859 - val_loss: 0.2019 - val_accuracy: 0.9209\n",
            "Epoch 35/40\n",
            "4/4 [==============================] - 1s 267ms/step - loss: 0.0642 - accuracy: 0.9866 - val_loss: 0.2033 - val_accuracy: 0.9184\n",
            "Epoch 36/40\n",
            "4/4 [==============================] - 1s 263ms/step - loss: 0.0595 - accuracy: 0.9885 - val_loss: 0.1996 - val_accuracy: 0.9133\n",
            "Epoch 37/40\n",
            "4/4 [==============================] - 1s 267ms/step - loss: 0.0550 - accuracy: 0.9910 - val_loss: 0.2007 - val_accuracy: 0.9158\n",
            "Epoch 38/40\n",
            "4/4 [==============================] - 1s 265ms/step - loss: 0.0507 - accuracy: 0.9923 - val_loss: 0.2033 - val_accuracy: 0.9158\n",
            "Epoch 39/40\n",
            "4/4 [==============================] - 1s 258ms/step - loss: 0.0475 - accuracy: 0.9930 - val_loss: 0.2005 - val_accuracy: 0.9158\n",
            "Epoch 40/40\n",
            "4/4 [==============================] - 1s 265ms/step - loss: 0.0441 - accuracy: 0.9936 - val_loss: 0.2041 - val_accuracy: 0.9158\n"
          ]
        },
        {
          "output_type": "execute_result",
          "data": {
            "text/plain": [
              "<keras.callbacks.History at 0x7f155ffcb8d0>"
            ]
          },
          "metadata": {},
          "execution_count": 40
        }
      ]
    },
    {
      "cell_type": "markdown",
      "source": [
        "## Testing the model"
      ],
      "metadata": {
        "id": "-fwHEj6W-yFt"
      }
    },
    {
      "cell_type": "code",
      "source": [
        "predicted = model.predict(x_test)\n",
        "\n",
        "Algorithm.append('Keras (DL)')"
      ],
      "metadata": {
        "id": "IMsaCuwau3Ui"
      },
      "execution_count": 42,
      "outputs": []
    },
    {
      "cell_type": "markdown",
      "source": [
        "### Accuracy"
      ],
      "metadata": {
        "id": "n82bK6nhojxf"
      }
    },
    {
      "cell_type": "code",
      "source": [
        "a = accuracy_score(y_test,predicted.round())*100\n",
        "Accuracy.append(\"%.2f\" % a)"
      ],
      "metadata": {
        "id": "0uWfRJNfomRg"
      },
      "execution_count": 43,
      "outputs": []
    },
    {
      "cell_type": "markdown",
      "source": [
        "## Creating a comparison dataframe\n"
      ],
      "metadata": {
        "id": "FXmMIID7jcVG"
      }
    },
    {
      "cell_type": "code",
      "source": [
        "comparison = pd.DataFrame(list(zip(Algorithm, Accuracy)), columns = ['Algorithm', 'Accuracy'])\n",
        "comparison"
      ],
      "metadata": {
        "colab": {
          "base_uri": "https://localhost:8080/",
          "height": 175
        },
        "id": "A98gM-AoiJzS",
        "outputId": "52e24229-0b5b-46ea-daba-a2768b6f35cd"
      },
      "execution_count": 44,
      "outputs": [
        {
          "output_type": "execute_result",
          "data": {
            "text/plain": [
              "                    Algorithm Accuracy\n",
              "0       LinearRegression (ML)    86.99\n",
              "1          XGB Regressor (ML)    90.82\n",
              "2  RandomForestRegressor (ML)    94.39\n",
              "3                  Keras (DL)    91.58"
            ],
            "text/html": [
              "\n",
              "  <div id=\"df-53cda81f-cf83-4e70-a614-d49daef608ba\">\n",
              "    <div class=\"colab-df-container\">\n",
              "      <div>\n",
              "<style scoped>\n",
              "    .dataframe tbody tr th:only-of-type {\n",
              "        vertical-align: middle;\n",
              "    }\n",
              "\n",
              "    .dataframe tbody tr th {\n",
              "        vertical-align: top;\n",
              "    }\n",
              "\n",
              "    .dataframe thead th {\n",
              "        text-align: right;\n",
              "    }\n",
              "</style>\n",
              "<table border=\"1\" class=\"dataframe\">\n",
              "  <thead>\n",
              "    <tr style=\"text-align: right;\">\n",
              "      <th></th>\n",
              "      <th>Algorithm</th>\n",
              "      <th>Accuracy</th>\n",
              "    </tr>\n",
              "  </thead>\n",
              "  <tbody>\n",
              "    <tr>\n",
              "      <th>0</th>\n",
              "      <td>LinearRegression (ML)</td>\n",
              "      <td>86.99</td>\n",
              "    </tr>\n",
              "    <tr>\n",
              "      <th>1</th>\n",
              "      <td>XGB Regressor (ML)</td>\n",
              "      <td>90.82</td>\n",
              "    </tr>\n",
              "    <tr>\n",
              "      <th>2</th>\n",
              "      <td>RandomForestRegressor (ML)</td>\n",
              "      <td>94.39</td>\n",
              "    </tr>\n",
              "    <tr>\n",
              "      <th>3</th>\n",
              "      <td>Keras (DL)</td>\n",
              "      <td>91.58</td>\n",
              "    </tr>\n",
              "  </tbody>\n",
              "</table>\n",
              "</div>\n",
              "      <button class=\"colab-df-convert\" onclick=\"convertToInteractive('df-53cda81f-cf83-4e70-a614-d49daef608ba')\"\n",
              "              title=\"Convert this dataframe to an interactive table.\"\n",
              "              style=\"display:none;\">\n",
              "        \n",
              "  <svg xmlns=\"http://www.w3.org/2000/svg\" height=\"24px\"viewBox=\"0 0 24 24\"\n",
              "       width=\"24px\">\n",
              "    <path d=\"M0 0h24v24H0V0z\" fill=\"none\"/>\n",
              "    <path d=\"M18.56 5.44l.94 2.06.94-2.06 2.06-.94-2.06-.94-.94-2.06-.94 2.06-2.06.94zm-11 1L8.5 8.5l.94-2.06 2.06-.94-2.06-.94L8.5 2.5l-.94 2.06-2.06.94zm10 10l.94 2.06.94-2.06 2.06-.94-2.06-.94-.94-2.06-.94 2.06-2.06.94z\"/><path d=\"M17.41 7.96l-1.37-1.37c-.4-.4-.92-.59-1.43-.59-.52 0-1.04.2-1.43.59L10.3 9.45l-7.72 7.72c-.78.78-.78 2.05 0 2.83L4 21.41c.39.39.9.59 1.41.59.51 0 1.02-.2 1.41-.59l7.78-7.78 2.81-2.81c.8-.78.8-2.07 0-2.86zM5.41 20L4 18.59l7.72-7.72 1.47 1.35L5.41 20z\"/>\n",
              "  </svg>\n",
              "      </button>\n",
              "      \n",
              "  <style>\n",
              "    .colab-df-container {\n",
              "      display:flex;\n",
              "      flex-wrap:wrap;\n",
              "      gap: 12px;\n",
              "    }\n",
              "\n",
              "    .colab-df-convert {\n",
              "      background-color: #E8F0FE;\n",
              "      border: none;\n",
              "      border-radius: 50%;\n",
              "      cursor: pointer;\n",
              "      display: none;\n",
              "      fill: #1967D2;\n",
              "      height: 32px;\n",
              "      padding: 0 0 0 0;\n",
              "      width: 32px;\n",
              "    }\n",
              "\n",
              "    .colab-df-convert:hover {\n",
              "      background-color: #E2EBFA;\n",
              "      box-shadow: 0px 1px 2px rgba(60, 64, 67, 0.3), 0px 1px 3px 1px rgba(60, 64, 67, 0.15);\n",
              "      fill: #174EA6;\n",
              "    }\n",
              "\n",
              "    [theme=dark] .colab-df-convert {\n",
              "      background-color: #3B4455;\n",
              "      fill: #D2E3FC;\n",
              "    }\n",
              "\n",
              "    [theme=dark] .colab-df-convert:hover {\n",
              "      background-color: #434B5C;\n",
              "      box-shadow: 0px 1px 3px 1px rgba(0, 0, 0, 0.15);\n",
              "      filter: drop-shadow(0px 1px 2px rgba(0, 0, 0, 0.3));\n",
              "      fill: #FFFFFF;\n",
              "    }\n",
              "  </style>\n",
              "\n",
              "      <script>\n",
              "        const buttonEl =\n",
              "          document.querySelector('#df-53cda81f-cf83-4e70-a614-d49daef608ba button.colab-df-convert');\n",
              "        buttonEl.style.display =\n",
              "          google.colab.kernel.accessAllowed ? 'block' : 'none';\n",
              "\n",
              "        async function convertToInteractive(key) {\n",
              "          const element = document.querySelector('#df-53cda81f-cf83-4e70-a614-d49daef608ba');\n",
              "          const dataTable =\n",
              "            await google.colab.kernel.invokeFunction('convertToInteractive',\n",
              "                                                     [key], {});\n",
              "          if (!dataTable) return;\n",
              "\n",
              "          const docLinkHtml = 'Like what you see? Visit the ' +\n",
              "            '<a target=\"_blank\" href=https://colab.research.google.com/notebooks/data_table.ipynb>data table notebook</a>'\n",
              "            + ' to learn more about interactive tables.';\n",
              "          element.innerHTML = '';\n",
              "          dataTable['output_type'] = 'display_data';\n",
              "          await google.colab.output.renderOutput(dataTable, element);\n",
              "          const docLink = document.createElement('div');\n",
              "          docLink.innerHTML = docLinkHtml;\n",
              "          element.appendChild(docLink);\n",
              "        }\n",
              "      </script>\n",
              "    </div>\n",
              "  </div>\n",
              "  "
            ]
          },
          "metadata": {},
          "execution_count": 44
        }
      ]
    }
  ]
}